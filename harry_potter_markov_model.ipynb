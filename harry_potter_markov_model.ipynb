{
 "cells": [
  {
   "cell_type": "code",
   "id": "initial_id",
   "metadata": {
    "collapsed": true,
    "ExecuteTime": {
     "end_time": "2025-01-27T08:10:47.311133Z",
     "start_time": "2025-01-27T08:10:47.304280Z"
    }
   },
   "source": [
    "import re\n",
    "from nltk.tokenize import word_tokenize\n",
    "import random"
   ],
   "outputs": [],
   "execution_count": 38
  },
  {
   "metadata": {
    "ExecuteTime": {
     "end_time": "2025-01-27T08:10:48.353225Z",
     "start_time": "2025-01-27T08:10:48.233554Z"
    }
   },
   "cell_type": "code",
   "source": [
    "import os\n",
    "\n",
    "story_path = r\"C:\\Users\\vinit\\PycharmProjects\\Markov Chain\\harry-potter-dataset\"\n",
    "\n",
    "def read_all_stories(story_path):\n",
    "    txt = []\n",
    "    for _, _, files in os.walk(story_path):\n",
    "        for file in files:\n",
    "            if file.endswith('.txt'): \n",
    "                file_path = os.path.join(story_path, file)\n",
    "                print(f\"Reading file: {file_path}\") \n",
    "                try:\n",
    "                    with open(file_path, 'r', encoding='utf-8') as f:\n",
    "                        for line in f:\n",
    "                            line = line.strip()\n",
    "                            if line == '----------':\n",
    "                                break\n",
    "                            if line != '':\n",
    "                                txt.append(line)\n",
    "                except Exception as e:\n",
    "                    print(f\"Error reading {file_path}: {e}\")  \n",
    "    return txt\n",
    "        \n",
    "stories = read_all_stories(story_path)\n",
    "print(\"Number of lines =\", len(stories))\n",
    "if len(stories) == 0:\n",
    "    print(\"No lines were found in any of the text files.\")\n",
    "\n"
   ],
   "id": "a6b886b9ffc174b2",
   "outputs": [
    {
     "name": "stdout",
     "output_type": "stream",
     "text": [
      "Reading file: C:\\Users\\vinit\\PycharmProjects\\Markov Chain\\harry-potter-dataset\\01 Harry Potter and the Sorcerers Stone.txt\n",
      "Reading file: C:\\Users\\vinit\\PycharmProjects\\Markov Chain\\harry-potter-dataset\\02 Harry Potter and the Chamber of Secrets.txt\n",
      "Reading file: C:\\Users\\vinit\\PycharmProjects\\Markov Chain\\harry-potter-dataset\\03 Harry Potter and the Prisoner of Azkaban.txt\n",
      "Reading file: C:\\Users\\vinit\\PycharmProjects\\Markov Chain\\harry-potter-dataset\\04 Harry Potter and the Goblet of Fire.txt\n",
      "Reading file: C:\\Users\\vinit\\PycharmProjects\\Markov Chain\\harry-potter-dataset\\05 Harry Potter and the Order of the Phoenix.txt\n",
      "Reading file: C:\\Users\\vinit\\PycharmProjects\\Markov Chain\\harry-potter-dataset\\06 Harry Potter and the Half-Blood Prince.txt\n",
      "Reading file: C:\\Users\\vinit\\PycharmProjects\\Markov Chain\\harry-potter-dataset\\07 Harry Potter and the Deathly Hallows.txt\n",
      "Number of lines = 38272\n"
     ]
    }
   ],
   "execution_count": 39
  },
  {
   "metadata": {
    "ExecuteTime": {
     "end_time": "2025-01-27T08:10:59.989799Z",
     "start_time": "2025-01-27T08:10:59.932274Z"
    }
   },
   "cell_type": "code",
   "source": [
    "import nltk\n",
    "nltk.download('punkt')"
   ],
   "id": "eb85d98f20064be",
   "outputs": [
    {
     "name": "stderr",
     "output_type": "stream",
     "text": [
      "[nltk_data] Downloading package punkt to\n",
      "[nltk_data]     C:\\Users\\vinit\\AppData\\Roaming\\nltk_data...\n",
      "[nltk_data]   Package punkt is already up-to-date!\n"
     ]
    },
    {
     "data": {
      "text/plain": [
       "True"
      ]
     },
     "execution_count": 40,
     "metadata": {},
     "output_type": "execute_result"
    }
   ],
   "execution_count": 40
  },
  {
   "metadata": {
    "ExecuteTime": {
     "end_time": "2025-01-27T08:11:07.685310Z",
     "start_time": "2025-01-27T08:11:03.329965Z"
    }
   },
   "cell_type": "code",
   "source": [
    "def clean_txt(txt):\n",
    "    cleaned_txt = []\n",
    "    for line in txt:\n",
    "        line = line.lower()\n",
    "        line = re.sub(r\"[,.\\\"\\'!@#$%^&*(){}?/;`~:<>+=-\\\\]\", \"\", line)\n",
    "        tokens = word_tokenize(line)\n",
    "        words = [word for word in tokens if word.isalpha()]\n",
    "        cleaned_txt+=words\n",
    "    return cleaned_txt\n",
    "\n",
    "cleaned_stories = clean_txt(stories)\n",
    "print(\"number of words = \", len(cleaned_stories))"
   ],
   "id": "1901f9c74c9660ba",
   "outputs": [
    {
     "name": "stdout",
     "output_type": "stream",
     "text": [
      "number of words =  1095205\n"
     ]
    }
   ],
   "execution_count": 41
  },
  {
   "metadata": {
    "ExecuteTime": {
     "end_time": "2025-01-27T08:11:13.828064Z",
     "start_time": "2025-01-27T08:11:13.820321Z"
    }
   },
   "cell_type": "code",
   "source": [
    "def make_markov_model(cleaned_stories, n_gram=2):\n",
    "    markov_model = {}\n",
    "    for i in range(len(cleaned_stories)-n_gram-1):\n",
    "        curr_state, next_state = \"\", \"\"\n",
    "        for j in range(n_gram):\n",
    "            curr_state += cleaned_stories[i+j] + \" \"\n",
    "            next_state += cleaned_stories[i+j+n_gram] + \" \"\n",
    "        curr_state = curr_state[:-1]\n",
    "        next_state = next_state[:-1]\n",
    "        if curr_state not in markov_model:\n",
    "            markov_model[curr_state] = {}\n",
    "            markov_model[curr_state][next_state] = 1\n",
    "        else:\n",
    "            if next_state in markov_model[curr_state]:\n",
    "                markov_model[curr_state][next_state] += 1\n",
    "            else:\n",
    "                markov_model[curr_state][next_state] = 1\n",
    "    \n",
    "    # calculating transition probabilities\n",
    "    for curr_state, transition in markov_model.items():\n",
    "        total = sum(transition.values())\n",
    "        for state, count in transition.items():\n",
    "            markov_model[curr_state][state] = count/total\n",
    "            \n",
    "    return markov_model"
   ],
   "id": "4034c1c2b61ae7f9",
   "outputs": [],
   "execution_count": 42
  },
  {
   "metadata": {
    "ExecuteTime": {
     "end_time": "2025-01-27T08:11:18.328229Z",
     "start_time": "2025-01-27T08:11:16.433469Z"
    }
   },
   "cell_type": "code",
   "source": "markov_model = make_markov_model(cleaned_stories)",
   "id": "65d79d5ec26dab83",
   "outputs": [],
   "execution_count": 43
  },
  {
   "metadata": {
    "ExecuteTime": {
     "end_time": "2025-01-27T08:11:19.389282Z",
     "start_time": "2025-01-27T08:11:19.385148Z"
    }
   },
   "cell_type": "code",
   "source": "print(\"number of states = \", len(markov_model.keys()))",
   "id": "41d9bde9d289de2f",
   "outputs": [
    {
     "name": "stdout",
     "output_type": "stream",
     "text": [
      "number of states =  327301\n"
     ]
    }
   ],
   "execution_count": 44
  },
  {
   "metadata": {
    "ExecuteTime": {
     "end_time": "2025-01-27T08:11:20.717642Z",
     "start_time": "2025-01-27T08:11:20.712285Z"
    }
   },
   "cell_type": "code",
   "source": [
    "print(\"All possible transitions from 'is dead' state: \\n\")\n",
    "print(markov_model['is dead'])"
   ],
   "id": "bf4ac7590d8c3a02",
   "outputs": [
    {
     "name": "stdout",
     "output_type": "stream",
     "text": [
      "All possible transitions from 'is dead' state: \n",
      "\n",
      "{'my lord': 0.0625, 'said crouch': 0.0625, 'but harry': 0.0625, 'yes phineas': 0.0625, 'don t': 0.0625, 'dumbledore would': 0.0625, 'they are': 0.0625, 'you the': 0.0625, 'lucius it': 0.0625, 'harry did': 0.0625, 'narcissa malfoy': 0.0625, 'by my': 0.0625, 'he was': 0.0625, 'do you': 0.0625, 'voldemort hurled': 0.0625, 'said harry': 0.0625}\n"
     ]
    }
   ],
   "execution_count": 45
  },
  {
   "metadata": {
    "ExecuteTime": {
     "end_time": "2025-01-27T08:11:52.007352Z",
     "start_time": "2025-01-27T08:11:52.002347Z"
    }
   },
   "cell_type": "code",
   "source": [
    "def generate_story(markov_model, limit=100, start='my god'):\n",
    "    n = 0\n",
    "    curr_state = start\n",
    "    next_state = None\n",
    "    story = \"\"\n",
    "    story+=curr_state+\" \"\n",
    "    while n<limit:\n",
    "        next_state = random.choices(list(markov_model[curr_state].keys()),\n",
    "                                    list(markov_model[curr_state].values()))\n",
    "        \n",
    "        curr_state = next_state[0]\n",
    "        story+=curr_state+\" \"\n",
    "        n+=1\n",
    "    return story"
   ],
   "id": "2e5727df1cbc16a5",
   "outputs": [],
   "execution_count": 46
  },
  {
   "metadata": {
    "ExecuteTime": {
     "end_time": "2025-01-27T08:11:53.919376Z",
     "start_time": "2025-01-27T08:11:53.911379Z"
    }
   },
   "cell_type": "code",
   "source": [
    "for i in range(20):\n",
    "    print(str(i)+\". \", generate_story(markov_model, start=\"hermione and\", limit=8))"
   ],
   "id": "cd42477cbb65412d",
   "outputs": [
    {
     "name": "stdout",
     "output_type": "stream",
     "text": [
      "0.  hermione and bill too you may lose the cup you earned fifty points you haven t handed you \n",
      "1.  hermione and neville if either of the others is bill here he stood back the faces of the \n",
      "2.  hermione and the two witches there passed a tent that had a horrible feeling that snape could read \n",
      "3.  hermione and ginny however took a step backwards yelped and released harry and fell gracefully into the pensieve \n",
      "4.  hermione and leanne had all halted gazing at the mound would be returning to grimmauld place use it \n",
      "5.  hermione and a thoroughly makes a better impression given what was coming several seats down from his shoulders \n",
      "6.  hermione and smiling widely as though it were nothing but merely looked rather stupid then both hat and \n",
      "7.  hermione and finally harry tried getting angry again in the garage without mum noticing we flew the car \n",
      "8.  hermione and fred fred grinned fine we wont get decent seats they hurried into the car had begun \n",
      "9.  hermione and i must tell you all this he told her giving her the pages carrying harrys interview \n",
      "10.  hermione and me to wish you hadnt given the maze holding it using it for years i had \n",
      "11.  hermione and black onto them a shower of red sparks an we knew there were intruders before hermione \n",
      "12.  hermione and ron leave me out he attacked me he and his hand actually closed upon the iron \n",
      "13.  hermione and lupin stood shoulder to see who had received several more times after ten minutes into the \n",
      "14.  hermione and he made a horcrux the fragment of soul inside it all surrounded by chintz armchairs and \n",
      "15.  hermione and me to it instead then he threw the chalk into a bin which clanged loudly and \n",
      "16.  hermione and neville dived under desks they could past the shimmering bell jar j where the book was \n",
      "17.  hermione and ginny s not ginny hasn t gone for filch i dont give a damn sight nicer \n",
      "18.  hermione and of ron hermione neville ginny and neville laughed gleefully what did you know that draco malfoy \n",
      "19.  hermione and pulled her shawls tight about her exasperation with xenophilius was that it would give away his \n"
     ]
    }
   ],
   "execution_count": 47
  },
  {
   "metadata": {
    "ExecuteTime": {
     "end_time": "2025-01-27T08:11:58.175108Z",
     "start_time": "2025-01-27T08:11:58.169230Z"
    }
   },
   "cell_type": "code",
   "source": "print(generate_story(markov_model, start=\"lupin had\", limit=100))",
   "id": "1482a0282e16bcb5",
   "outputs": [
    {
     "name": "stdout",
     "output_type": "stream",
     "text": [
      "lupin had been right in thinking that he had succeeded in conjuring so much that his father who hid beneath the cloak light was coming from her but the subject of giant wars harry did not like people just because shes part giant who needs that sort of whistle was protruding from the ceiling when the offense had occurred so long ago to guard myself against mortal death they who had seen in his knees seemed to double up to the castle again but you can go and check footsteps crossed the room opened his wardrobe and peered inside and the gnarled stump sat there looking as though he thought he saw that both harry and riddle wand still raised his face it looked like it was built for two says winky and dobby s eyes lingered for a moment to report the truth i would inform them when our owl results will come cant be right can it aaaaah said ron in a high voice oh professor flitwick i m so sorry to hear of it dumbledore waited but voldemort did and so forth said professor mcgonagall shooed them away harry they re talking about he said angrily getting to his \n"
     ]
    }
   ],
   "execution_count": 48
  },
  {
   "metadata": {},
   "cell_type": "code",
   "outputs": [],
   "execution_count": null,
   "source": "",
   "id": "e6870412f4aa9744"
  }
 ],
 "metadata": {
  "kernelspec": {
   "display_name": "Python 3",
   "language": "python",
   "name": "python3"
  },
  "language_info": {
   "codemirror_mode": {
    "name": "ipython",
    "version": 2
   },
   "file_extension": ".py",
   "mimetype": "text/x-python",
   "name": "python",
   "nbconvert_exporter": "python",
   "pygments_lexer": "ipython2",
   "version": "2.7.6"
  }
 },
 "nbformat": 4,
 "nbformat_minor": 5
}
